{
  "nbformat": 4,
  "nbformat_minor": 0,
  "metadata": {
    "colab": {
      "provenance": []
    },
    "kernelspec": {
      "name": "python3",
      "display_name": "Python 3"
    },
    "language_info": {
      "name": "python"
    }
  },
  "cells": [
    {
      "cell_type": "code",
      "execution_count": 1,
      "metadata": {
        "id": "t0-_gD9nnSLx"
      },
      "outputs": [],
      "source": [
        "documents = [\n",
        "    \"The quick brown fox jumps over the lazy dog.\",\n",
        "    \"Information retrieval is an essential concept in computer science.\",\n",
        "    \"The dog is playing in the garden.\",\n",
        "    \"Boolean retrieval deals with AND, OR, and NOT operators.\",\n",
        "    \"Inverted index is the backbone of information retrieval.\"\n",
        "]\n"
      ]
    },
    {
      "cell_type": "code",
      "source": [
        "from collections import defaultdict\n",
        "\n",
        "def build_dictionary(docs):\n",
        "    dictionary = defaultdict(list)\n",
        "    for doc_id, doc in enumerate(docs):\n",
        "        for word in doc.lower().split():\n",
        "            word = word.strip('.,')\n",
        "            if doc_id not in dictionary[word]:\n",
        "                dictionary[word].append(doc_id)\n",
        "    return dictionary\n",
        "\n",
        "dictionary = build_dictionary(documents)\n",
        "print(dictionary)\n"
      ],
      "metadata": {
        "colab": {
          "base_uri": "https://localhost:8080/"
        },
        "id": "LVFEbyGpnVXV",
        "outputId": "3c052030-a78c-4302-fa4c-eab63b113279"
      },
      "execution_count": 2,
      "outputs": [
        {
          "output_type": "stream",
          "name": "stdout",
          "text": [
            "defaultdict(<class 'list'>, {'the': [0, 2, 4], 'quick': [0], 'brown': [0], 'fox': [0], 'jumps': [0], 'over': [0], 'lazy': [0], 'dog': [0, 2], 'information': [1, 4], 'retrieval': [1, 3, 4], 'is': [1, 2, 4], 'an': [1], 'essential': [1], 'concept': [1], 'in': [1, 2], 'computer': [1], 'science': [1], 'playing': [2], 'garden': [2], 'boolean': [3], 'deals': [3], 'with': [3], 'and': [3], 'or': [3], 'not': [3], 'operators': [3], 'inverted': [4], 'index': [4], 'backbone': [4], 'of': [4]})\n"
          ]
        }
      ]
    },
    {
      "cell_type": "code",
      "source": [
        "def build_inverted_index(dictionary):\n",
        "    return {term: doc_ids for term, doc_ids in dictionary.items()}\n",
        "\n",
        "inverted_index = build_inverted_index(dictionary)\n",
        "print(inverted_index)\n"
      ],
      "metadata": {
        "colab": {
          "base_uri": "https://localhost:8080/"
        },
        "id": "pm_7bCHzneFn",
        "outputId": "7eecfad3-bfbe-45e2-aae6-8627b01063d8"
      },
      "execution_count": 3,
      "outputs": [
        {
          "output_type": "stream",
          "name": "stdout",
          "text": [
            "{'the': [0, 2, 4], 'quick': [0], 'brown': [0], 'fox': [0], 'jumps': [0], 'over': [0], 'lazy': [0], 'dog': [0, 2], 'information': [1, 4], 'retrieval': [1, 3, 4], 'is': [1, 2, 4], 'an': [1], 'essential': [1], 'concept': [1], 'in': [1, 2], 'computer': [1], 'science': [1], 'playing': [2], 'garden': [2], 'boolean': [3], 'deals': [3], 'with': [3], 'and': [3], 'or': [3], 'not': [3], 'operators': [3], 'inverted': [4], 'index': [4], 'backbone': [4], 'of': [4]}\n"
          ]
        }
      ]
    },
    {
      "cell_type": "code",
      "source": [
        "def boolean_retrieval(query, index):\n",
        "    terms = query.split()\n",
        "    if \"AND\" in terms:\n",
        "        return set(index[terms[0]]).intersection(index[terms[2]])\n",
        "    elif \"OR\" in terms:\n",
        "        return set(index[terms[0]]).union(index[terms[2]])\n",
        "    elif \"NOT\" in terms:\n",
        "        return set(range(len(documents))).difference(index[terms[1]])\n",
        "\n",
        "# Example Queries\n",
        "print(boolean_retrieval(\"information AND retrieval\", inverted_index))\n",
        "print(boolean_retrieval(\"dog OR fox\", inverted_index))\n",
        "print(boolean_retrieval(\"NOT garden\", inverted_index))\n"
      ],
      "metadata": {
        "colab": {
          "base_uri": "https://localhost:8080/"
        },
        "id": "JyxlgO51nfUh",
        "outputId": "8429fc8e-aedb-4eb5-93bf-9ffc20f69424"
      },
      "execution_count": 4,
      "outputs": [
        {
          "output_type": "stream",
          "name": "stdout",
          "text": [
            "{1, 4}\n",
            "{0, 2}\n",
            "{0, 1, 3, 4}\n"
          ]
        }
      ]
    }
  ]
}